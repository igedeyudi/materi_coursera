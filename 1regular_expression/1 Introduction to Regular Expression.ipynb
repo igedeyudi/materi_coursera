{
 "cells": [
  {
   "cell_type": "markdown",
   "metadata": {},
   "source": [
    "# Definisi"
   ]
  },
  {
   "cell_type": "markdown",
   "metadata": {},
   "source": [
    "Regular Expression (RegEx) merupakan kombinasi pola dari tanda baca, huruf, angka untuk search stuff (pola dari suatu text)"
   ]
  },
  {
   "cell_type": "markdown",
   "metadata": {},
   "source": [
    "# Metacharacters"
   ]
  },
  {
   "cell_type": "markdown",
   "metadata": {},
   "source": [
    "'^' diawali dengan\n",
    "\n",
    "'$' diakhiri dengan"
   ]
  },
  {
   "cell_type": "code",
   "execution_count": 1,
   "metadata": {
    "ExecuteTime": {
     "end_time": "2022-05-04T16:15:14.399884Z",
     "start_time": "2022-05-04T16:15:14.379939Z"
    }
   },
   "outputs": [],
   "source": [
    "string1 = 'dogs are adorable'"
   ]
  },
  {
   "cell_type": "code",
   "execution_count": 2,
   "metadata": {
    "ExecuteTime": {
     "end_time": "2022-05-04T16:15:32.731821Z",
     "start_time": "2022-05-04T16:15:32.716863Z"
    }
   },
   "outputs": [],
   "source": [
    "pattern1 = '^dogs'"
   ]
  },
  {
   "cell_type": "code",
   "execution_count": 3,
   "metadata": {
    "ExecuteTime": {
     "end_time": "2022-05-04T16:15:50.694761Z",
     "start_time": "2022-05-04T16:15:50.690772Z"
    }
   },
   "outputs": [],
   "source": [
    "# untuk load library\n",
    "import re"
   ]
  },
  {
   "cell_type": "code",
   "execution_count": 6,
   "metadata": {
    "ExecuteTime": {
     "end_time": "2022-05-04T16:17:05.682151Z",
     "start_time": "2022-05-04T16:17:05.663201Z"
    }
   },
   "outputs": [
    {
     "data": {
      "text/plain": [
       "<re.Match object; span=(0, 4), match='dogs'>"
      ]
     },
     "execution_count": 6,
     "metadata": {},
     "output_type": "execute_result"
    }
   ],
   "source": [
    "re.search(pattern1, string1)"
   ]
  },
  {
   "cell_type": "markdown",
   "metadata": {},
   "source": [
    "> jika dia menemukan pola dimaksud, maka akan ada notifikasinya, cara membacanya adalah terdapat match object, dengan lenght 0,4"
   ]
  },
  {
   "cell_type": "code",
   "execution_count": 7,
   "metadata": {
    "ExecuteTime": {
     "end_time": "2022-05-04T16:17:48.574252Z",
     "start_time": "2022-05-04T16:17:48.567269Z"
    }
   },
   "outputs": [],
   "source": [
    "pattern2 = 'dogs$'"
   ]
  },
  {
   "cell_type": "code",
   "execution_count": 14,
   "metadata": {
    "ExecuteTime": {
     "end_time": "2022-05-04T16:22:52.973208Z",
     "start_time": "2022-05-04T16:22:52.966228Z"
    }
   },
   "outputs": [
    {
     "name": "stdout",
     "output_type": "stream",
     "text": [
      "None\n"
     ]
    }
   ],
   "source": [
    "print(re.search(pattern2, string1))"
   ]
  },
  {
   "cell_type": "markdown",
   "metadata": {},
   "source": [
    "> jika dia tidak menemukan pola dimaksud, maka akan ada notifikasi None"
   ]
  },
  {
   "cell_type": "markdown",
   "metadata": {},
   "source": [
    "# Quantifiers"
   ]
  },
  {
   "cell_type": "markdown",
   "metadata": {},
   "source": [
    "' ? ' karakter sebelum tanda ' ? ' sifatnya opsional, bisa boleh ada atau tidak\n",
    " \n",
    "' + ' karakter sebelum tanda ' + ' minimal harus ada satu, boleh lebih\n",
    "\n",
    "' * ' karakter sebelum tanda ' * ' minimal harus ada satu, boleh lebih"
   ]
  },
  {
   "cell_type": "code",
   "execution_count": 11,
   "metadata": {
    "ExecuteTime": {
     "end_time": "2022-05-04T16:22:01.632483Z",
     "start_time": "2022-05-04T16:22:01.621482Z"
    }
   },
   "outputs": [],
   "source": [
    "string2 = 'color'\n",
    "string3 = 'colour'"
   ]
  },
  {
   "cell_type": "code",
   "execution_count": 12,
   "metadata": {
    "ExecuteTime": {
     "end_time": "2022-05-04T16:22:20.705607Z",
     "start_time": "2022-05-04T16:22:20.698625Z"
    }
   },
   "outputs": [
    {
     "data": {
      "text/plain": [
       "<re.Match object; span=(0, 5), match='color'>"
      ]
     },
     "execution_count": 12,
     "metadata": {},
     "output_type": "execute_result"
    }
   ],
   "source": [
    "re.search('colou?r', string2)"
   ]
  },
  {
   "cell_type": "code",
   "execution_count": 13,
   "metadata": {
    "ExecuteTime": {
     "end_time": "2022-05-04T16:22:26.870611Z",
     "start_time": "2022-05-04T16:22:26.855656Z"
    }
   },
   "outputs": [
    {
     "data": {
      "text/plain": [
       "<re.Match object; span=(0, 6), match='colour'>"
      ]
     },
     "execution_count": 13,
     "metadata": {},
     "output_type": "execute_result"
    }
   ],
   "source": [
    "re.search('colou?r', string3)"
   ]
  },
  {
   "cell_type": "markdown",
   "metadata": {},
   "source": [
    "> perhatikan bahwa huruf 'u' terletak sebelum tanda '?', artinya kondisinya dia boleh ada, atau tidak, sehingga baik saat color maupun colour, akan diketemukan pola serupa"
   ]
  },
  {
   "cell_type": "code",
   "execution_count": 15,
   "metadata": {
    "ExecuteTime": {
     "end_time": "2022-05-04T16:25:21.410364Z",
     "start_time": "2022-05-04T16:25:21.398322Z"
    }
   },
   "outputs": [],
   "source": [
    "string4 = 'ab'\n",
    "string5 = 'ac'\n",
    "string6 = 'abbc'"
   ]
  },
  {
   "cell_type": "code",
   "execution_count": 17,
   "metadata": {
    "ExecuteTime": {
     "end_time": "2022-05-04T16:26:59.994909Z",
     "start_time": "2022-05-04T16:26:59.991933Z"
    }
   },
   "outputs": [
    {
     "name": "stdout",
     "output_type": "stream",
     "text": [
      "None\n"
     ]
    }
   ],
   "source": [
    "print(re.search('ab+c', string4))"
   ]
  },
  {
   "cell_type": "code",
   "execution_count": 19,
   "metadata": {
    "ExecuteTime": {
     "end_time": "2022-05-04T16:27:14.691657Z",
     "start_time": "2022-05-04T16:27:14.675737Z"
    }
   },
   "outputs": [
    {
     "name": "stdout",
     "output_type": "stream",
     "text": [
      "None\n"
     ]
    }
   ],
   "source": [
    "print(re.search('ab+c', string5))"
   ]
  },
  {
   "cell_type": "code",
   "execution_count": 20,
   "metadata": {
    "ExecuteTime": {
     "end_time": "2022-05-04T16:27:18.064943Z",
     "start_time": "2022-05-04T16:27:18.052942Z"
    }
   },
   "outputs": [
    {
     "data": {
      "text/plain": [
       "<re.Match object; span=(0, 4), match='abbc'>"
      ]
     },
     "execution_count": 20,
     "metadata": {},
     "output_type": "execute_result"
    }
   ],
   "source": [
    "re.search('ab+c', string6)"
   ]
  },
  {
   "cell_type": "markdown",
   "metadata": {},
   "source": [
    "> terlihat jelas perbedaan saat melakukan search pada string4 dan string5, dibandingkan dengan string6"
   ]
  },
  {
   "cell_type": "code",
   "execution_count": 23,
   "metadata": {
    "ExecuteTime": {
     "end_time": "2022-05-04T16:31:56.908896Z",
     "start_time": "2022-05-04T16:31:56.893934Z"
    }
   },
   "outputs": [
    {
     "name": "stdout",
     "output_type": "stream",
     "text": [
      "None\n"
     ]
    }
   ],
   "source": [
    "print(re.search('a*c', string4))"
   ]
  },
  {
   "cell_type": "code",
   "execution_count": 25,
   "metadata": {
    "ExecuteTime": {
     "end_time": "2022-05-04T16:32:23.617989Z",
     "start_time": "2022-05-04T16:32:23.609984Z"
    }
   },
   "outputs": [
    {
     "name": "stdout",
     "output_type": "stream",
     "text": [
      "<re.Match object; span=(0, 2), match='ac'>\n"
     ]
    }
   ],
   "source": [
    "print(re.search('a*c', string5))"
   ]
  },
  {
   "cell_type": "code",
   "execution_count": 24,
   "metadata": {
    "ExecuteTime": {
     "end_time": "2022-05-04T16:32:07.546247Z",
     "start_time": "2022-05-04T16:32:07.535282Z"
    }
   },
   "outputs": [
    {
     "name": "stdout",
     "output_type": "stream",
     "text": [
      "<re.Match object; span=(3, 4), match='c'>\n"
     ]
    }
   ],
   "source": [
    "print(re.search('a*c', string6))"
   ]
  },
  {
   "cell_type": "markdown",
   "metadata": {},
   "source": [
    "> ada kemiripan antara penggunaan tanda ' * ' dengan ' + ', namun akan ada perbedaan saat kita membutuhkan hal yang greedy atau tidak, akan dijelaskan setelahnya"
   ]
  },
  {
   "cell_type": "markdown",
   "metadata": {},
   "source": [
    "# Sets"
   ]
  },
  {
   "cell_type": "markdown",
   "metadata": {},
   "source": [
    "' [] ' list dari kumpulan karakter untuk membentuk pola\n",
    "\n",
    "' [arn] '  maka karakter yang dicari adalah karakter a, r, dan n\n",
    "\n",
    "' [a-n] ' maka karakter yang dicari adalah dari a ke n, tanda ' - ' secara sederhana dapat diartikan sampai dengan\n",
    "\n",
    "' [^a-n] ' maka karakter yang dicari selain dari a ke n, perhatikan tanda ' ^ ', jika dalam sets, maka diartikan kecuali"
   ]
  },
  {
   "cell_type": "markdown",
   "metadata": {},
   "source": [
    "Bagaimana dengan angka ?\n",
    "\n",
    "' [0-9] ' maka karakter yang dicari angka 0 ke 9\n",
    "\n",
    "' [0-5][0-9] ' ada dua digit yang kita cari, digit pertama dari 0 ke 5, sedangkan digit kedua dari 0 ke 9, secara sederhana diartikan dari angka 0 ke 50"
   ]
  },
  {
   "cell_type": "markdown",
   "metadata": {},
   "source": [
    "Lalu huruf dan angka ini bisa dikombinasikan\n",
    "\n",
    "' [a-z0-9] ' maka karakter yang dicari adalah huruf kecil a ke z dan angka 0 ke 9\n",
    "\n",
    "' [A-Z0-9] ' maka karakter yang dicari adalah huruf besar A ke Z dan angka 0 ke 9"
   ]
  },
  {
   "cell_type": "code",
   "execution_count": 26,
   "metadata": {
    "ExecuteTime": {
     "end_time": "2022-05-04T17:44:38.266717Z",
     "start_time": "2022-05-04T17:44:38.257703Z"
    }
   },
   "outputs": [
    {
     "data": {
      "text/plain": [
       "'dogs are adorable'"
      ]
     },
     "execution_count": 26,
     "metadata": {},
     "output_type": "execute_result"
    }
   ],
   "source": [
    "string1"
   ]
  },
  {
   "cell_type": "code",
   "execution_count": 28,
   "metadata": {
    "ExecuteTime": {
     "end_time": "2022-05-04T17:45:09.089586Z",
     "start_time": "2022-05-04T17:45:09.073659Z"
    }
   },
   "outputs": [
    {
     "data": {
      "text/plain": [
       "['d', 'g', 'a', 'e', 'a', 'd', 'a', 'b', 'l', 'e']"
      ]
     },
     "execution_count": 28,
     "metadata": {},
     "output_type": "execute_result"
    }
   ],
   "source": [
    "re.findall('[a-n]', string1)"
   ]
  },
  {
   "cell_type": "markdown",
   "metadata": {},
   "source": [
    "# Special sequences"
   ]
  },
  {
   "cell_type": "markdown",
   "metadata": {},
   "source": [
    "' \\d ' merupakan sequences untuk mencari any digits [0-9]\n",
    "\n",
    "' \\w ' merupakan sequences untuk mencari [0-9A-Z_] , 0 ke 9, A ke Z, dan ' _ '"
   ]
  },
  {
   "cell_type": "code",
   "execution_count": 29,
   "metadata": {
    "ExecuteTime": {
     "end_time": "2022-05-04T17:49:38.330643Z",
     "start_time": "2022-05-04T17:49:38.325093Z"
    }
   },
   "outputs": [],
   "source": [
    "string7 = 'my password is 2213141'"
   ]
  },
  {
   "cell_type": "code",
   "execution_count": 35,
   "metadata": {
    "ExecuteTime": {
     "end_time": "2022-05-04T17:51:35.823250Z",
     "start_time": "2022-05-04T17:51:35.815238Z"
    }
   },
   "outputs": [
    {
     "data": {
      "text/plain": [
       "['2', '2', '1', '3', '1', '4', '1']"
      ]
     },
     "execution_count": 35,
     "metadata": {},
     "output_type": "execute_result"
    }
   ],
   "source": [
    "re.findall('\\d', string7)"
   ]
  },
  {
   "cell_type": "code",
   "execution_count": 33,
   "metadata": {
    "ExecuteTime": {
     "end_time": "2022-05-04T17:51:16.455416Z",
     "start_time": "2022-05-04T17:51:16.441421Z"
    }
   },
   "outputs": [],
   "source": [
    "string8 = 'my password is 22_13141'"
   ]
  },
  {
   "cell_type": "code",
   "execution_count": 37,
   "metadata": {
    "ExecuteTime": {
     "end_time": "2022-05-04T17:51:44.730168Z",
     "start_time": "2022-05-04T17:51:44.712253Z"
    }
   },
   "outputs": [
    {
     "data": {
      "text/plain": [
       "['m',\n",
       " 'y',\n",
       " 'p',\n",
       " 'a',\n",
       " 's',\n",
       " 's',\n",
       " 'w',\n",
       " 'o',\n",
       " 'r',\n",
       " 'd',\n",
       " 'i',\n",
       " 's',\n",
       " '2',\n",
       " '2',\n",
       " '_',\n",
       " '1',\n",
       " '3',\n",
       " '1',\n",
       " '4',\n",
       " '1']"
      ]
     },
     "execution_count": 37,
     "metadata": {},
     "output_type": "execute_result"
    }
   ],
   "source": [
    "re.findall('\\w', string8)"
   ]
  },
  {
   "cell_type": "markdown",
   "metadata": {},
   "source": [
    "> cukup jelas untuk melihat perbedaan antara \\d dan \\w"
   ]
  },
  {
   "cell_type": "code",
   "execution_count": null,
   "metadata": {},
   "outputs": [],
   "source": []
  }
 ],
 "metadata": {
  "kernelspec": {
   "display_name": "Python 3",
   "language": "python",
   "name": "python3"
  },
  "language_info": {
   "codemirror_mode": {
    "name": "ipython",
    "version": 3
   },
   "file_extension": ".py",
   "mimetype": "text/x-python",
   "name": "python",
   "nbconvert_exporter": "python",
   "pygments_lexer": "ipython3",
   "version": "3.7.6"
  },
  "toc": {
   "base_numbering": 1,
   "nav_menu": {},
   "number_sections": true,
   "sideBar": true,
   "skip_h1_title": false,
   "title_cell": "Table of Contents",
   "title_sidebar": "Contents",
   "toc_cell": false,
   "toc_position": {},
   "toc_section_display": true,
   "toc_window_display": false
  }
 },
 "nbformat": 4,
 "nbformat_minor": 4
}
